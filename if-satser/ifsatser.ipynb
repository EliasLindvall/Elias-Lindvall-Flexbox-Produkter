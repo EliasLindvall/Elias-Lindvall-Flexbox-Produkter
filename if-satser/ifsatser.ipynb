{
 "metadata": {
  "language_info": {
   "codemirror_mode": {
    "name": "ipython",
    "version": 3
   },
   "file_extension": ".py",
   "mimetype": "text/x-python",
   "name": "python",
   "nbconvert_exporter": "python",
   "pygments_lexer": "ipython3",
   "version": "3.8.5-final"
  },
  "orig_nbformat": 2,
  "kernelspec": {
   "name": "python_defaultSpec_1600074424623",
   "display_name": "Python 3.8.5 32-bit"
  }
 },
 "nbformat": 4,
 "nbformat_minor": 2,
 "cells": [
  {
   "cell_type": "code",
   "execution_count": 2,
   "metadata": {
    "tags": []
   },
   "outputs": [
    {
     "output_type": "stream",
     "name": "stdout",
     "text": "Den andra katetern är 4.0 cm\n"
    }
   ],
   "source": [
    "# Räkna med PYTHON\n",
    "# Uppgift 1\n",
    "import math\n",
    "katet1=3\n",
    "hypo=5\n",
    "\n",
    "katet2= math.sqrt(hypo**2-katet1**2)\n",
    "\n",
    "print(f\"Den andra katetern är {katet2} cm\")"
   ]
  },
  {
   "cell_type": "code",
   "execution_count": 4,
   "metadata": {
    "tags": []
   },
   "outputs": [
    {
     "output_type": "stream",
     "name": "stdout",
     "text": "triangelns area är 2.0cm^2\n"
    }
   ],
   "source": [
    "# Uppgift 2\n",
    "bas= float(input(\"skriv in basen till en triangel i cm.\"))\n",
    "höjd= float(input(\"skriv in höjden till en triangel i cm.\"))\n",
    "\n",
    "area= (bas*höjd)/2\n",
    "\n",
    "print(f\"triangelns area är {area}cm^2\")"
   ]
  },
  {
   "cell_type": "code",
   "execution_count": 34,
   "metadata": {
    "tags": []
   },
   "outputs": [
    {
     "output_type": "stream",
     "name": "stdout",
     "text": "-16.11809565095832\n"
    }
   ],
   "source": [
    "# Uppgift 3 (inte löst)\n",
    "import math\n",
    "h=1*10**-7\n",
    "ph= math.log(h)\n",
    "print (f\"{ph}\")"
   ]
  },
  {
   "cell_type": "code",
   "execution_count": 23,
   "metadata": {
    "tags": []
   },
   "outputs": [
    {
     "output_type": "stream",
     "name": "stdout",
     "text": "Avståndet mellan de 2 punkterna är 10.816653826391969\n"
    }
   ],
   "source": [
    "# Uppgift 4 c\n",
    "x1 = float(input(\"Skriv in x-koordinaten för den första punkten.\"))\n",
    "y1 = float(input(\"Skriv in y-koordinaten för den första punkten.\"))\n",
    "\n",
    "x2 = float(input(\"Skriv in x-koordinaten för den andra punkten.\"))\n",
    "y2 = float(input(\"Skriv in y-koordinaten för den andra punkten.\"))\n",
    "\n",
    "d = math.sqrt ((x2-x1)**2 +(y2-y1)**2)\n",
    "\n",
    "print (f\"Avståndet mellan de 2 punkterna är {d}\")"
   ]
  },
  {
   "cell_type": "code",
   "execution_count": 73,
   "metadata": {
    "tags": []
   },
   "outputs": [
    {
     "output_type": "stream",
     "name": "stdout",
     "text": "talet är jämnt\ntalet är delbart med 5\n"
    }
   ],
   "source": [
    "# If-satser\n",
    "# Uppgift 2\n",
    "tal = float(input(\"skriv ett tal.\"))\n",
    "\n",
    "\n",
    "if tal%2 == 0:\n",
    "    print(\"talet är jämnt\")\n",
    "if tal%5 ==0:\n",
    "    print(\"talet är delbart med 5\")\n",
    "else:\n",
    "    print(\"talet är udda\")\n"
   ]
  },
  {
   "cell_type": "code",
   "execution_count": 68,
   "metadata": {
    "tags": []
   },
   "outputs": [
    {
     "output_type": "stream",
     "name": "stdout",
     "text": "talet är positivt\n"
    }
   ],
   "source": [
    "# Uppgift 3\n",
    "tal = float(input(\"skriv ett tal\"))\n",
    "\n",
    "if tal > 0:\n",
    "    print(\"talet är positivt\")\n",
    "elif tal == 0:\n",
    "    print(\"talet är noll\")\n",
    "else:\n",
    "    print(\"talet är negativt\")\n",
    "\n"
   ]
  },
  {
   "cell_type": "code",
   "execution_count": 46,
   "metadata": {
    "tags": []
   },
   "outputs": [
    {
     "output_type": "stream",
     "name": "stdout",
     "text": "Det största av de 4 talen är:  100000\n"
    }
   ],
   "source": [
    "# Uppgift 3\n",
    "lst = []\n",
    "\n",
    "for n in range(4):\n",
    "    tal = int(input(\"Skriv ett nummer: \"))\n",
    "    lst.append(tal)\n",
    "\n",
    "print(\"Det största av de 4 talen är: \" ,max(lst),)\n"
   ]
  },
  {
   "cell_type": "code",
   "execution_count": 53,
   "metadata": {
    "tags": []
   },
   "outputs": [
    {
     "output_type": "stream",
     "name": "stdout",
     "text": "Vinkeln är rak\n"
    }
   ],
   "source": [
    "# Uppgift 4 \n",
    "vinkel = float(input(\"Skriv en vinkel i grader\"))\n",
    "\n",
    "if vinkel <90:\n",
    "    print(\"Vinkeln är spetsig.\")\n",
    "elif vinkel ==90:\n",
    "    print(\"Vinkeln är rät.\")\n",
    "elif vinkel <180:\n",
    "    print(\"Vinkeln är trubbig.\")\n",
    "elif vinkel ==180:\n",
    "    print(\"Vinkeln är rak\")\n",
    "elif vinkel <360:\n",
    "    print(\"Vinkeln är konvex.\")\n",
    "else:\n",
    "    print(\"Vinkeln är hel.\")\n",
    "\n"
   ]
  },
  {
   "cell_type": "code",
   "execution_count": 63,
   "metadata": {
    "tags": []
   },
   "outputs": [
    {
     "output_type": "stream",
     "name": "stdout",
     "text": "Cirkelns omkrets är: 314.1592653589793 cm och cirkelns area är 7853.981633974483cm^2\n"
    }
   ],
   "source": [
    "# Uppgift 5\n",
    "import math\n",
    "radie = float(input(\"Skriv en radie till en cirkel i cm\"))\n",
    "\n",
    "if radie <0:\n",
    "    print(\"Du måste ange ett positivt tal\")\n",
    "\n",
    "omkrets = radie*2*math.pi\n",
    "\n",
    "area = radie**2*math.pi\n",
    "\n",
    "if radie <0:\n",
    "    print(\"Du måste ange ett positivt tal\")\n",
    "else: print(f\"Cirkelns omkrets är: {omkrets} cm och cirkelns area är {area}cm^2\")\n"
   ]
  },
  {
   "cell_type": "code",
   "execution_count": 69,
   "metadata": {
    "tags": []
   },
   "outputs": [
    {
     "output_type": "stream",
     "name": "stdout",
     "text": "vinklarnas summa måste vara 180 grader\n"
    }
   ],
   "source": [
    "# Uppgift 6\n",
    "A = float(input(\"skriv in vinkel A på en triangel\"))\n",
    "B = float(input(\"skriv in vinkel B på en triangel\"))\n",
    "C = float(input(\"skriv in vinkel C på en triangel\"))\n",
    "\n",
    "if A+B+C != 180:\n",
    "    print(\"vinklarnas summa måste vara 180 grader\")\n",
    "elif A==90:\n",
    "    print(\"Triangeln har en rät vinkel\")\n",
    "elif B==90:\n",
    "    print(\"Triangeln har en rät vinkel\")\n",
    "elif C==90:\n",
    "    print(\"Triangeln har en rät vinkel\")\n",
    "else:\n",
    "    print(\"Triangeln har ingen rät vinkel\")\n",
    "\n"
   ]
  },
  {
   "cell_type": "code",
   "execution_count": 70,
   "metadata": {
    "tags": []
   },
   "outputs": [
    {
     "output_type": "stream",
     "name": "stdout",
     "text": "Punkten ligger på linjen mellan de olika kvadranterna\n"
    }
   ],
   "source": [
    "# Uppgift 7\n",
    "x= float(input(\"skriv in en x koordinat\"))\n",
    "y= float(input(\"skriv in en y koordinat\"))\n",
    "\n",
    "if x >0 and y >0:\n",
    "    print(\"Punkten ligger i kvadrant 1\")\n",
    "elif x <0 and y >0:\n",
    "    print(\"Punkten ligger i kvadrant 2\")\n",
    "elif x <0 and y <0:\n",
    "    print(\"Punkten ligger i kvadrant 3\")\n",
    "elif x >0 and y <0:\n",
    "    print(\"Punkten ligger i kvadrant 4\")\n",
    "elif x==0 and y==0:\n",
    "    print(\"Punkten ligger på orion\")\n",
    "else:\n",
    "    print(\"Punkten ligger på linjen mellan de olika kvadranterna\")\n"
   ]
  },
  {
   "cell_type": "code",
   "execution_count": null,
   "metadata": {},
   "outputs": [],
   "source": []
  }
 ]
}