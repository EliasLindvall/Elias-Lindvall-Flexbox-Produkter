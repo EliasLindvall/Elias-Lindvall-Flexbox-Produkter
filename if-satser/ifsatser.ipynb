{
 "metadata": {
  "language_info": {
   "codemirror_mode": {
    "name": "ipython",
    "version": 3
   },
   "file_extension": ".py",
   "mimetype": "text/x-python",
   "name": "python",
   "nbconvert_exporter": "python",
   "pygments_lexer": "ipython3",
   "version": "3.8.5-final"
  },
  "orig_nbformat": 2,
  "kernelspec": {
   "name": "python_defaultSpec_1600074424623",
   "display_name": "Python 3.8.5 32-bit"
  }
 },
 "nbformat": 4,
 "nbformat_minor": 2,
 "cells": [
  {
   "cell_type": "code",
   "execution_count": 2,
   "metadata": {
    "tags": []
   },
   "outputs": [
    {
     "output_type": "stream",
     "name": "stdout",
     "text": "Den andra katetern är 4.0 cm\n"
    }
   ],
   "source": [
    "import math\n",
    "katet1=3\n",
    "hypo=5\n",
    "\n",
    "katet2= math.sqrt(hypo**2-katet1**2)\n",
    "\n",
    "print(f\"Den andra katetern är {katet2} cm\")"
   ]
  },
  {
   "cell_type": "code",
   "execution_count": 4,
   "metadata": {
    "tags": []
   },
   "outputs": [
    {
     "output_type": "stream",
     "name": "stdout",
     "text": "triangelns area är 2.0cm^2\n"
    }
   ],
   "source": [
    "bas= float(input(\"skriv in basen till en triangel i cm.\"))\n",
    "höjd= float(input(\"skriv in höjden till en triangel i cm.\"))\n",
    "\n",
    "area= (bas*höjd)/2\n",
    "\n",
    "print(f\"triangelns area är {area}cm^2\")"
   ]
  },
  {
   "cell_type": "code",
   "execution_count": 19,
   "metadata": {
    "tags": []
   },
   "outputs": [
    {
     "output_type": "stream",
     "name": "stdout",
     "text": "-16.11809565095832\n"
    }
   ],
   "source": [
    "import math\n",
    "h=1*10**-7\n",
    "ph= math.log(h)\n",
    "print (f\"{ph}\")"
   ]
  },
  {
   "cell_type": "code",
   "execution_count": 23,
   "metadata": {
    "tags": []
   },
   "outputs": [
    {
     "output_type": "stream",
     "name": "stdout",
     "text": "Avståndet mellan de 2 punkterna är 10.816653826391969\n"
    }
   ],
   "source": [
    "x1 = float(input(\"Skriv in x-koordinaten för den första punkten.\"))\n",
    "y1 = float(input(\"Skriv in y-koordinaten för den första punkten.\"))\n",
    "\n",
    "x2 = float(input(\"Skriv in x-koordinaten för den andra punkten.\"))\n",
    "y2 = float(input(\"Skriv in y-koordinaten för den andra punkten.\"))\n",
    "\n",
    "d = math.sqrt ((x2-x1)**2 +(y2-y1)**2)\n",
    "\n",
    "print (f\"Avståndet mellan de 2 punkterna är {d}\")"
   ]
  },
  {
   "cell_type": "code",
   "execution_count": 29,
   "metadata": {
    "tags": []
   },
   "outputs": [
    {
     "output_type": "stream",
     "name": "stdout",
     "text": "talet är jämnt\n"
    }
   ],
   "source": [
    "tal = float(input(\"skriv ett tal.\"))\n",
    "\n",
    "\n",
    "if tal%2 == 0:\n",
    "    print(\"talet är jämnt\")\n",
    "else:\n",
    "    print(\"talet är udda\")\n"
   ]
  },
  {
   "cell_type": "code",
   "execution_count": 32,
   "metadata": {
    "tags": []
   },
   "outputs": [
    {
     "output_type": "stream",
     "name": "stdout",
     "text": "talet är positivt\n"
    }
   ],
   "source": [
    "tal = float(input(\"skriv ett tal\"))\n",
    "\n",
    "if tal > 0:\n",
    "    print(\"talet är positivt\")\n",
    "elif tal == 0:\n",
    "    print(\"talet är noll\")\n",
    "else:\n",
    "    print(\"talet är negativt\")\n",
    "\n"
   ]
  },
  {
   "cell_type": "code",
   "execution_count": null,
   "metadata": {},
   "outputs": [],
   "source": []
  }
 ]
}