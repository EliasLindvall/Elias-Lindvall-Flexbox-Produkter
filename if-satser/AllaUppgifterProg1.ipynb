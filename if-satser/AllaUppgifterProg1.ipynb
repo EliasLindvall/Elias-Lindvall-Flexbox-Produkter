{
 "metadata": {
  "language_info": {
   "codemirror_mode": {
    "name": "ipython",
    "version": 3
   },
   "file_extension": ".py",
   "mimetype": "text/x-python",
   "name": "python",
   "nbconvert_exporter": "python",
   "pygments_lexer": "ipython3",
   "version": "3.8.5-final"
  },
  "orig_nbformat": 2,
  "kernelspec": {
   "name": "Python 3.8.5 32-bit",
   "display_name": "Python 3.8.5 32-bit",
   "metadata": {
    "interpreter": {
     "hash": "9caf92573561e39dd8f0a6d973e19a3a137881b0a3b90e7efafa6d7c0a2c097e"
    }
   }
  }
 },
 "nbformat": 4,
 "nbformat_minor": 2,
 "cells": [
  {
   "cell_type": "code",
   "execution_count": 95,
   "metadata": {
    "tags": []
   },
   "outputs": [
    {
     "output_type": "stream",
     "name": "stdout",
     "text": "Den andra katetern är 4.0 cm\n"
    }
   ],
   "source": [
    "# Räkna med PYTHON\n",
    "# Uppgift 1\n",
    "import math\n",
    "katet1=3\n",
    "hypo=5\n",
    "\n",
    "katet2= math.sqrt(hypo**2-katet1**2)\n",
    "\n",
    "print(f\"Den andra katetern är {katet2} cm\")"
   ]
  },
  {
   "cell_type": "code",
   "execution_count": 96,
   "metadata": {
    "tags": []
   },
   "outputs": [
    {
     "output_type": "stream",
     "name": "stdout",
     "text": "triangelns area är 7.5cm^2\n"
    }
   ],
   "source": [
    "# Uppgift 2\n",
    "bas= float(input(\"skriv in basen till en triangel i cm.\"))\n",
    "höjd= float(input(\"skriv in höjden till en triangel i cm.\"))\n",
    "\n",
    "area= (bas*höjd)/2\n",
    "\n",
    "print(f\"triangelns area är {area}cm^2\")"
   ]
  },
  {
   "cell_type": "code",
   "execution_count": 97,
   "metadata": {
    "tags": []
   },
   "outputs": [
    {
     "output_type": "stream",
     "name": "stdout",
     "text": "-16.11809565095832\n"
    }
   ],
   "source": [
    "# Uppgift 3 (inte löst)\n",
    "import math\n",
    "h=1*10**-7\n",
    "ph= math.log(h)\n",
    "print (f\"{ph}\")"
   ]
  },
  {
   "cell_type": "code",
   "execution_count": 98,
   "metadata": {
    "tags": []
   },
   "outputs": [
    {
     "output_type": "stream",
     "name": "stdout",
     "text": "Avståndet mellan de 2 punkterna är 231.57936004747918\n"
    }
   ],
   "source": [
    "# Uppgift 4 c\n",
    "x1 = float(input(\"Skriv in x-koordinaten för den första punkten.\"))\n",
    "y1 = float(input(\"Skriv in y-koordinaten för den första punkten.\"))\n",
    "\n",
    "x2 = float(input(\"Skriv in x-koordinaten för den andra punkten.\"))\n",
    "y2 = float(input(\"Skriv in y-koordinaten för den andra punkten.\"))\n",
    "\n",
    "d = math.sqrt ((x2-x1)**2 +(y2-y1)**2)\n",
    "\n",
    "print (f\"Avståndet mellan de 2 punkterna är {d}\")"
   ]
  },
  {
   "cell_type": "code",
   "execution_count": 99,
   "metadata": {
    "tags": []
   },
   "outputs": [
    {
     "output_type": "stream",
     "name": "stdout",
     "text": "talet är jämnt\ntalet är udda\n"
    }
   ],
   "source": [
    "# If-satser\n",
    "# Uppgift 2\n",
    "tal = float(input(\"skriv ett tal.\"))\n",
    "\n",
    "\n",
    "if tal%2 == 0:\n",
    "    print(\"talet är jämnt\")\n",
    "if tal%5 ==0:\n",
    "    print(\"talet är delbart med 5\")\n",
    "else:\n",
    "    print(\"talet är udda\")\n"
   ]
  },
  {
   "cell_type": "code",
   "execution_count": 100,
   "metadata": {
    "tags": []
   },
   "outputs": [
    {
     "output_type": "stream",
     "name": "stdout",
     "text": "talet är positivt\n"
    }
   ],
   "source": [
    "# Uppgift 1\n",
    "tal = float(input(\"skriv ett tal\"))\n",
    "\n",
    "if tal > 0:\n",
    "    print(\"talet är positivt\")\n",
    "elif tal == 0:\n",
    "    print(\"talet är noll\")\n",
    "else:\n",
    "    print(\"talet är negativt\")\n",
    "\n"
   ]
  },
  {
   "cell_type": "code",
   "execution_count": 101,
   "metadata": {
    "tags": []
   },
   "outputs": [
    {
     "output_type": "stream",
     "name": "stdout",
     "text": "Det största av de 4 talen är:  532\n"
    }
   ],
   "source": [
    "# Uppgift 3\n",
    "lst = []\n",
    "\n",
    "for n in range(4):\n",
    "    tal = int(input(\"Skriv ett nummer: \"))\n",
    "    lst.append(tal)\n",
    "\n",
    "print(\"Det största av de 4 talen är: \" ,max(lst),)\n"
   ]
  },
  {
   "cell_type": "code",
   "execution_count": 2,
   "metadata": {
    "tags": []
   },
   "outputs": [
    {
     "output_type": "stream",
     "name": "stdout",
     "text": "Vinkeln är spetsig.\n"
    }
   ],
   "source": [
    "# Uppgift 4 \n",
    "vinkel = float(input(\"Skriv en vinkel i grader\"))\n",
    "\n",
    "if vinkel <90:\n",
    "    print(\"Vinkeln är spetsig.\")\n",
    "elif vinkel ==90:\n",
    "    print(\"Vinkeln är rät.\")\n",
    "elif vinkel <180:\n",
    "    print(\"Vinkeln är trubbig.\")\n",
    "elif vinkel ==180:\n",
    "    print(\"Vinkeln är rak\")\n",
    "elif vinkel <360:\n",
    "    print(\"Vinkeln är konvex.\")\n",
    "else:\n",
    "    print(\"Vinkeln är hel.\")\n",
    "\n"
   ]
  },
  {
   "cell_type": "code",
   "execution_count": 103,
   "metadata": {
    "tags": []
   },
   "outputs": [
    {
     "output_type": "stream",
     "name": "stdout",
     "text": "Cirkelns omkrets är: 3286.1059156549236 cm och cirkelns area är 859316.6969437625cm^2\n"
    }
   ],
   "source": [
    "# Uppgift 5\n",
    "import math\n",
    "radie = float(input(\"Skriv en radie till en cirkel i cm\"))\n",
    "\n",
    "if radie <0:\n",
    "    print(\"Du måste ange ett positivt tal\")\n",
    "\n",
    "omkrets = radie*2*math.pi\n",
    "\n",
    "area = radie**2*math.pi\n",
    "\n",
    "if radie <0:\n",
    "    print(\"Du måste ange ett positivt tal\")\n",
    "else: print(f\"Cirkelns omkrets är: {omkrets} cm och cirkelns area är {area}cm^2\")\n"
   ]
  },
  {
   "cell_type": "code",
   "execution_count": 112,
   "metadata": {
    "tags": []
   },
   "outputs": [
    {
     "output_type": "stream",
     "name": "stdout",
     "text": "Triangeln har en rät vinkel\n"
    }
   ],
   "source": [
    "# Uppgift 6\n",
    "A = float(input(\"skriv in vinkel A på en triangel\"))\n",
    "B = float(input(\"skriv in vinkel B på en triangel\"))\n",
    "C = float(input(\"skriv in vinkel C på en triangel\"))\n",
    "\n",
    "if A+B+C != 180:\n",
    "    print(\"vinklarnas summa måste vara 180 grader\")\n",
    "elif A==90:\n",
    "    print(\"Triangeln har en rät vinkel\")\n",
    "elif B==90:\n",
    "    print(\"Triangeln har en rät vinkel\")\n",
    "elif C==90:\n",
    "    print(\"Triangeln har en rät vinkel\")\n",
    "else:\n",
    "    print(\"Triangeln har ingen rät vinkel\")\n",
    "\n"
   ]
  },
  {
   "cell_type": "code",
   "execution_count": 111,
   "metadata": {
    "tags": []
   },
   "outputs": [
    {
     "output_type": "stream",
     "name": "stdout",
     "text": "Punkten ligger i kvadrant 4\n"
    }
   ],
   "source": [
    "# Uppgift 7\n",
    "x= float(input(\"skriv in en x koordinat\"))\n",
    "y= float(input(\"skriv in en y koordinat\"))\n",
    "\n",
    "if x >0 and y >0:\n",
    "    print(\"Punkten ligger i kvadrant 1\")\n",
    "elif x <0 and y >0:\n",
    "    print(\"Punkten ligger i kvadrant 2\")\n",
    "elif x <0 and y <0:\n",
    "    print(\"Punkten ligger i kvadrant 3\")\n",
    "elif x >0 and y <0:\n",
    "    print(\"Punkten ligger i kvadrant 4\")\n",
    "elif x==0 and y==0:\n",
    "    print(\"Punkten ligger på orion\")\n",
    "else:\n",
    "    print(\"Punkten ligger på linjen mellan de olika kvadranterna\")\n"
   ]
  },
  {
   "cell_type": "code",
   "execution_count": 106,
   "metadata": {
    "tags": []
   },
   "outputs": [
    {
     "output_type": "stream",
     "name": "stdout",
     "text": "Baggaget är inte godkänt\n"
    }
   ],
   "source": [
    "# Uppgift 8\n",
    "vikt = float(input(\"Skriv in vikten på ditt handbaggage i kg\"))\n",
    "längd = float(input(\"Skriv in längden på ditt handbaggage i cm\"))\n",
    "bredd = float(input(\"Skriv in bredden på ditt handbaggage i cm\"))\n",
    "höjd = float(input(\"Skriv in höjden på ditt handbaggage i cm\"))\n",
    "\n",
    "if vikt <=8 and längd <=55 and bredd <= 40 and höjd <= 23:\n",
    "    print(\"Baggaget är godkänt\")\n",
    "else:\n",
    "    print(\"Baggaget är inte godkänt\")\n",
    "    "
   ]
  },
  {
   "cell_type": "code",
   "execution_count": 3,
   "metadata": {
    "tags": []
   },
   "outputs": [
    {
     "output_type": "stream",
     "name": "stdout",
     "text": "absolutbeloppet av talet -5.0 är 5.0\n"
    }
   ],
   "source": [
    "# Uppgift 9\n",
    "tal = float(input(\"Skriv in ett tal\"))\n",
    "\n",
    "absolutbelopp = abs(tal)\n",
    "\n",
    "print(f\"absolutbeloppet av talet {tal} är {absolutbelopp}\")"
   ]
  },
  {
   "cell_type": "code",
   "execution_count": 108,
   "metadata": {
    "tags": []
   },
   "outputs": [],
   "source": [
    "# Uppgift 10\n",
    "\n",
    "    "
   ]
  },
  {
   "cell_type": "code",
   "execution_count": 4,
   "metadata": {
    "tags": []
   },
   "outputs": [
    {
     "output_type": "stream",
     "name": "stdout",
     "text": "1\n2\n3\n4\n5\n6\n7\n8\n9\n10\n"
    }
   ],
   "source": [
    "# For-satser\n",
    "# Uppgift 1 a\n",
    "tal = [\"1\",\"2\",\"3\",\"4\",\"5\",\"6\",\"7\",\"8\",\"9\",\"10\"]\n",
    "for i in range (1,11):\n",
    "    print(i)"
   ]
  },
  {
   "cell_type": "code",
   "execution_count": 125,
   "metadata": {
    "tags": []
   },
   "outputs": [
    {
     "output_type": "stream",
     "name": "stdout",
     "text": "Elias fick 24 poäng vilket ger betyget F\n"
    }
   ],
   "source": [
    "import random as rnd\n",
    "\n",
    "poäng = rnd.randint(0,65)\n",
    "\n",
    "klass = [\"Elias\", \"Kokchun\"]\n",
    "\n",
    "elev = rnd.choice(klass)\n",
    "\n",
    "if (poäng > 66):\n",
    "    betyg = \"A\"\n",
    "elif (poäng >= 56):\n",
    "    betyg = \"B\"\n",
    "elif (poäng >=51):\n",
    "    betyg = \"C\"\n",
    "elif(poäng >= 41):\n",
    "    betyg = \"D\"\n",
    "elif (poäng >= 31):\n",
    "    betyg = \"E\"\n",
    "else:\n",
    "    betyg = \"F\"\n",
    "\n",
    "print(f\"{elev} fick {poäng} poäng vilket ger betyget {betyg}\")\n",
    "\n"
   ]
  },
  {
   "cell_type": "code",
   "execution_count": 1,
   "metadata": {
    "tags": []
   },
   "outputs": [
    {
     "output_type": "stream",
     "name": "stdout",
     "text": "100 99 98 97 96 95 94 93 92 91 90 89 88 87 86 85 84 83 82 81 80 79 78 77 76 75 74 73 72 71 70 69 68 67 66 65 64 63 62 61 60 59 58 57 56 55 54 53 52 51 50"
    }
   ],
   "source": [
    "for i in range (50,101):\n",
    "    print(150-i, end=\" \")\n",
    "    \n"
   ]
  },
  {
   "cell_type": "code",
   "execution_count": 10,
   "metadata": {
    "tags": []
   },
   "outputs": [
    {
     "output_type": "stream",
     "name": "stdout",
     "text": "-10\n-9\n-8\n-7\n-6\n-5\n-4\n-3\n-2\n-1\n0\n1\n2\n3\n4\n5\n6\n7\n8\n9\n10\n"
    }
   ],
   "source": [
    "# Uppgift 1b\n",
    "for i in range (-10,11):\n",
    "    print(i)"
   ]
  },
  {
   "cell_type": "code",
   "execution_count": 9,
   "metadata": {
    "tags": []
   },
   "outputs": [
    {
     "output_type": "stream",
     "name": "stdout",
     "text": "10 9 8 7 6 5 4 3 2 1 0"
    }
   ],
   "source": [
    "# Uppgift 1c\n",
    "\n",
    "for i in range (1,12):\n",
    "    print(11-i, end=\" \")"
   ]
  },
  {
   "cell_type": "code",
   "execution_count": 22,
   "metadata": {
    "tags": []
   },
   "outputs": [
    {
     "output_type": "stream",
     "name": "stdout",
     "text": "5050\n"
    }
   ],
   "source": [
    "# Uppgift 2\n",
    "# Utan for-sats\n",
    "\n",
    "b = range(101)\n",
    "c= sum(b)\n",
    "print(c)\n"
   ]
  },
  {
   "cell_type": "code",
   "execution_count": 35,
   "metadata": {
    "tags": []
   },
   "outputs": [
    {
     "output_type": "stream",
     "name": "stdout",
     "text": "5050\n"
    }
   ],
   "source": [
    "# Uppgift 3\n",
    "# Med for-sats\n",
    "\n",
    "s = 0\n",
    "\n",
    "for b in range(1,101):\n",
    "    s +=b\n",
    "print(s)\n",
    "   \n"
   ]
  },
  {
   "cell_type": "code",
   "execution_count": 6,
   "metadata": {
    "tags": []
   },
   "outputs": [
    {
     "output_type": "stream",
     "name": "stdout",
     "text": "4950\n"
    }
   ],
   "source": [
    "# Uppgift 4\n",
    "\n",
    "s = 0\n",
    "\n",
    "for b in range(1,100):\n",
    "    s +=b\n",
    "print(s)\n",
    "   "
   ]
  },
  {
   "cell_type": "code",
   "execution_count": 10,
   "metadata": {
    "tags": []
   },
   "outputs": [
    {
     "output_type": "stream",
     "name": "stdout",
     "text": "0, 5, 10, 15, 20, 25, 30, 35, 40, 45, 50, "
    }
   ],
   "source": [
    "# Uppgift 5a\n",
    "for i in range(0,11):\n",
    "    a=5*i\n",
    "    print(a, end=\", \")"
   ]
  },
  {
   "cell_type": "code",
   "execution_count": 19,
   "metadata": {
    "tags": []
   },
   "outputs": [
    {
     "output_type": "stream",
     "name": "stdout",
     "text": "8.0,  12.0,  16.0,  20.0,  "
    }
   ],
   "source": [
    "# Uppgift 5b\n",
    "\n",
    "tabell = float(input(\"Vilken muliplikationstabell ska det vara?\"))\n",
    "start = int(input(\"Skriv in vart tabellen ska börja\"))\n",
    "end = int(input(\"Skriv in vart tabellen ska sluta\"))\n",
    "\n",
    "for n in range(start, end):\n",
    "    print (tabell*n, end=\",  \")"
   ]
  },
  {
   "cell_type": "code",
   "execution_count": 26,
   "metadata": {
    "tags": []
   },
   "outputs": [
    {
     "output_type": "stream",
     "name": "stdout",
     "text": "ok 25\n"
    }
   ],
   "source": [
    "# Uppgift 5c\n",
    "\n",
    "print(f\"ok {5*5}\")"
   ]
  },
  {
   "cell_type": "code",
   "execution_count": null,
   "metadata": {},
   "outputs": [],
   "source": []
  }
 ]
}