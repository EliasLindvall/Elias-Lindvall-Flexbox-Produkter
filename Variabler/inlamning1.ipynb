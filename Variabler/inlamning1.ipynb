{
 "metadata": {
  "language_info": {
   "codemirror_mode": {
    "name": "ipython",
    "version": 3
   },
   "file_extension": ".py",
   "mimetype": "text/x-python",
   "name": "python",
   "nbconvert_exporter": "python",
   "pygments_lexer": "ipython3",
   "version": "3.8.5-final"
  },
  "orig_nbformat": 2,
  "kernelspec": {
   "name": "python_defaultSpec_1599645571113",
   "display_name": "Python 3.8.5 32-bit"
  }
 },
 "nbformat": 4,
 "nbformat_minor": 2,
 "cells": [
  {
   "cell_type": "code",
   "execution_count": 1,
   "metadata": {
    "tags": []
   },
   "outputs": [
    {
     "output_type": "stream",
     "name": "stdout",
     "text": "hej elias\n"
    }
   ],
   "source": [
    "name = \"elias\"\n",
    "print (f\"hej {name}\")\n"
   ]
  },
  {
   "cell_type": "code",
   "execution_count": 2,
   "metadata": {
    "tags": []
   },
   "outputs": [
    {
     "output_type": "stream",
     "name": "stdout",
     "text": "Din tyngdkraft är 441.90000000000003N\n"
    }
   ],
   "source": [
    "g = 9.82\n",
    "m = float(input(\"Ange din vikt i kg: \"))\n",
    "\n",
    "f = m*g\n",
    "\n",
    "print(f\"Din tyngdkraft är {f}N\")"
   ]
  },
  {
   "cell_type": "code",
   "execution_count": 3,
   "metadata": {
    "tags": []
   },
   "outputs": [
    {
     "output_type": "stream",
     "name": "stdout",
     "text": "34.0 = 3400.0%\n"
    }
   ],
   "source": [
    "tal = float(input(\"Ange ett decimaltal\"))\n",
    "procent = tal*100\n",
    "\n",
    "print(f\"{tal} = {procent}%\")"
   ]
  },
  {
   "cell_type": "code",
   "execution_count": 7,
   "metadata": {
    "tags": []
   },
   "outputs": [
    {
     "output_type": "stream",
     "name": "stdout",
     "text": "2.0 Kelvin = -271.15 Grader Celsius\n"
    }
   ],
   "source": [
    "K = float(input(\"Ange en temperatur i Kelvin\"))\n",
    "C = K-273.15\n",
    "\n",
    "print (f\"{K} Kelvin = {C} Grader Celsius\")"
   ]
  },
  {
   "cell_type": "code",
   "execution_count": 6,
   "metadata": {
    "tags": []
   },
   "outputs": [
    {
     "output_type": "stream",
     "name": "stdout",
     "text": "30.0 Grader celsius = 303.5 Kelvin\n"
    }
   ],
   "source": [
    "C = float(input(\"Ange en temperatur i celsius grader\"))\n",
    "K = C+273.5\n",
    "\n",
    "print (f\"{C} Grader celsius = {K} Kelvin\")"
   ]
  },
  {
   "cell_type": "code",
   "execution_count": 5,
   "metadata": {
    "tags": []
   },
   "outputs": [
    {
     "output_type": "stream",
     "name": "stdout",
     "text": "Att betala med engångsbiljetter kostar sammanlagt 1500.0kr i månaden för dig\n"
    }
   ],
   "source": [
    "antal = float(input(\"Hur många gånger åker du med västraffik i månaden?\"))\n",
    "\n",
    "kostnad = antal*30\n",
    "\n",
    "print (f\"Att betala med engångsbiljetter kostar sammanlagt {kostnad}kr i månaden för dig\")"
   ]
  },
  {
   "cell_type": "code",
   "execution_count": 4,
   "metadata": {
    "tags": []
   },
   "outputs": [
    {
     "output_type": "stream",
     "name": "stdout",
     "text": "Du borde köpa ett månadskort eftersom din kostnad är 900.0kr i månaden och ett månadskort kostar bara 775kr\n"
    }
   ],
   "source": [
    "antal = float(input(\"Hur många gånger åker du med västraffik i månaden?\"))\n",
    "\n",
    "kostnad = antal*30\n",
    "\n",
    "if kostnad > 775:\n",
    "    print(f\"Du borde köpa ett månadskort eftersom din kostnad är {kostnad}kr i månaden och ett månadskort kostar bara 775kr\")\n",
    "\n",
    "if kostnad < 775:\n",
    "    print(f\"Din kostnad per månad är {kostnad}kr vilket är mindre än vad ett månadskort kostar alltså 775kr, då behöver du inget.\")\n"
   ]
  },
  {
   "cell_type": "code",
   "execution_count": null,
   "metadata": {},
   "outputs": [],
   "source": []
  }
 ]
}